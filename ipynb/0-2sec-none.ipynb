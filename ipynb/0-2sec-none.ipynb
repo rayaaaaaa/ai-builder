{
 "cells": [
  {
   "cell_type": "code",
   "execution_count": 1,
   "id": "exterior-religious",
   "metadata": {
    "_cell_guid": "b1076dfc-b9ad-4769-8c92-a6c4dae69d19",
    "_uuid": "8f2839f25d086af736a60e9eeb907d3b93b6e0e5",
    "execution": {
     "iopub.execute_input": "2021-06-29T13:56:12.273416Z",
     "iopub.status.busy": "2021-06-29T13:56:12.272700Z",
     "iopub.status.idle": "2021-06-29T13:56:12.276028Z",
     "shell.execute_reply": "2021-06-29T13:56:12.275261Z",
     "shell.execute_reply.started": "2021-06-26T09:36:25.043844Z"
    },
    "papermill": {
     "duration": 0.025558,
     "end_time": "2021-06-29T13:56:12.276224",
     "exception": false,
     "start_time": "2021-06-29T13:56:12.250666",
     "status": "completed"
    },
    "tags": []
   },
   "outputs": [],
   "source": [
    "# This Python 3 environment comes with many helpful analytics libraries installed\n",
    "# It is defined by the kaggle/python Docker image: https://github.com/kaggle/docker-python\n",
    "# For example, here's several helpful packages to load\n",
    "\n",
    "import numpy as np # linear algebra\n",
    "import pandas as pd # data processing, CSV file I/O (e.g. pd.read_csv)\n",
    "\n",
    "# Input data files are available in the read-only \"../input/\" directory\n",
    "# For example, running this (by clicking run or pressing Shift+Enter) will list all files under the input directory\n",
    "\n",
    "import os\n",
    "# for dirname, _, filenames in os.walk('/kaggle/input'):\n",
    "#     for filename in filenames:\n",
    "#         print(os.path.join(dirname, filename))\n",
    "\n",
    "# # You can write up to 20GB to the current directory (/kaggle/working/) that gets preserved as output when you create a version using \"Save & Run All\" \n",
    "# # You can also write temporary files to /kaggle/temp/, but they won't be saved outside of the current session\n",
    "from PIL import Image"
   ]
  },
  {
   "cell_type": "code",
   "execution_count": 2,
   "id": "minute-funds",
   "metadata": {
    "execution": {
     "iopub.execute_input": "2021-06-29T13:56:12.300636Z",
     "iopub.status.busy": "2021-06-29T13:56:12.299930Z",
     "iopub.status.idle": "2021-06-29T13:56:12.302924Z",
     "shell.execute_reply": "2021-06-29T13:56:12.302390Z",
     "shell.execute_reply.started": "2021-06-26T09:36:26.91041Z"
    },
    "papermill": {
     "duration": 0.017193,
     "end_time": "2021-06-29T13:56:12.303082",
     "exception": false,
     "start_time": "2021-06-29T13:56:12.285889",
     "status": "completed"
    },
    "tags": []
   },
   "outputs": [],
   "source": [
    "fs=4000"
   ]
  },
  {
   "cell_type": "code",
   "execution_count": 3,
   "id": "excess-offer",
   "metadata": {
    "execution": {
     "iopub.execute_input": "2021-06-29T13:56:12.336676Z",
     "iopub.status.busy": "2021-06-29T13:56:12.335425Z",
     "iopub.status.idle": "2021-06-29T13:56:25.686310Z",
     "shell.execute_reply": "2021-06-29T13:56:25.685267Z",
     "shell.execute_reply.started": "2021-06-26T09:36:28.906357Z"
    },
    "papermill": {
     "duration": 13.37346,
     "end_time": "2021-06-29T13:56:25.686505",
     "exception": false,
     "start_time": "2021-06-29T13:56:12.313045",
     "status": "completed"
    },
    "tags": []
   },
   "outputs": [],
   "source": [
    "import glob\n",
    "path = '../input/emg2channels'\n",
    "all_files = glob.glob(path+'/EMG-S*/'+'*.csv')\n",
    "dflist=[]\n",
    "for ii in range(len(all_files)):\n",
    "    dflist.append(pd.read_csv(all_files[ii],header=None))"
   ]
  },
  {
   "cell_type": "code",
   "execution_count": 4,
   "id": "essential-westminster",
   "metadata": {
    "execution": {
     "iopub.execute_input": "2021-06-29T13:56:25.713295Z",
     "iopub.status.busy": "2021-06-29T13:56:25.712324Z",
     "iopub.status.idle": "2021-06-29T13:56:25.718090Z",
     "shell.execute_reply": "2021-06-29T13:56:25.718588Z",
     "shell.execute_reply.started": "2021-06-26T09:36:41.267672Z"
    },
    "papermill": {
     "duration": 0.022811,
     "end_time": "2021-06-29T13:56:25.718778",
     "exception": false,
     "start_time": "2021-06-29T13:56:25.695967",
     "status": "completed"
    },
    "tags": []
   },
   "outputs": [
    {
     "data": {
      "text/plain": [
       "600"
      ]
     },
     "execution_count": 4,
     "metadata": {},
     "output_type": "execute_result"
    }
   ],
   "source": [
    "len(all_files)"
   ]
  },
  {
   "cell_type": "code",
   "execution_count": 5,
   "id": "military-prevention",
   "metadata": {
    "execution": {
     "iopub.execute_input": "2021-06-29T13:56:25.743975Z",
     "iopub.status.busy": "2021-06-29T13:56:25.743306Z",
     "iopub.status.idle": "2021-06-29T13:56:25.746970Z",
     "shell.execute_reply": "2021-06-29T13:56:25.746451Z",
     "shell.execute_reply.started": "2021-06-26T09:36:41.275975Z"
    },
    "papermill": {
     "duration": 0.018489,
     "end_time": "2021-06-29T13:56:25.747133",
     "exception": false,
     "start_time": "2021-06-29T13:56:25.728644",
     "status": "completed"
    },
    "tags": []
   },
   "outputs": [],
   "source": [
    "label=['HC','II','LL','MM','RR','TI','TL','TM','TR','TT']\n",
    "datanumber=[0,0,0,0,0,0,0,0,0,0]"
   ]
  },
  {
   "cell_type": "code",
   "execution_count": 6,
   "id": "improved-captain",
   "metadata": {
    "execution": {
     "iopub.execute_input": "2021-06-29T13:56:25.778235Z",
     "iopub.status.busy": "2021-06-29T13:56:25.777576Z",
     "iopub.status.idle": "2021-06-29T13:56:25.781112Z",
     "shell.execute_reply": "2021-06-29T13:56:25.780597Z",
     "shell.execute_reply.started": "2021-06-26T09:36:43.894272Z"
    },
    "papermill": {
     "duration": 0.024316,
     "end_time": "2021-06-29T13:56:25.781287",
     "exception": false,
     "start_time": "2021-06-29T13:56:25.756971",
     "status": "completed"
    },
    "tags": []
   },
   "outputs": [],
   "source": [
    "infodf = pd.DataFrame(columns=['filename', 'class'])"
   ]
  },
  {
   "cell_type": "code",
   "execution_count": 7,
   "id": "underlying-bedroom",
   "metadata": {
    "execution": {
     "iopub.execute_input": "2021-06-29T13:56:25.807757Z",
     "iopub.status.busy": "2021-06-29T13:56:25.807088Z",
     "iopub.status.idle": "2021-06-29T13:56:27.991668Z",
     "shell.execute_reply": "2021-06-29T13:56:27.991025Z",
     "shell.execute_reply.started": "2021-06-26T09:36:46.545424Z"
    },
    "papermill": {
     "duration": 2.200889,
     "end_time": "2021-06-29T13:56:27.991842",
     "exception": false,
     "start_time": "2021-06-29T13:56:25.790953",
     "status": "completed"
    },
    "tags": []
   },
   "outputs": [],
   "source": [
    "!mkdir /kaggle/working/data\n",
    "!mkdir /kaggle/working/data/numpy\n",
    "!mkdir /kaggle/working/data/image"
   ]
  },
  {
   "cell_type": "code",
   "execution_count": 8,
   "id": "digital-kuwait",
   "metadata": {
    "execution": {
     "iopub.execute_input": "2021-06-29T13:56:28.036853Z",
     "iopub.status.busy": "2021-06-29T13:56:28.035831Z",
     "iopub.status.idle": "2021-06-29T13:59:36.346673Z",
     "shell.execute_reply": "2021-06-29T13:59:36.345979Z",
     "shell.execute_reply.started": "2021-06-26T05:30:28.289959Z"
    },
    "papermill": {
     "duration": 188.345123,
     "end_time": "2021-06-29T13:59:36.346867",
     "exception": false,
     "start_time": "2021-06-29T13:56:28.001744",
     "status": "completed"
    },
    "tags": []
   },
   "outputs": [],
   "source": [
    "max = 60\n",
    "for ii in range(len(dflist)):\n",
    "#     print(ii,all_files[ii])\n",
    "    file=''.join(''.join(all_files[ii].split('/')[3:5]).split('.')[0].split('-')[1:3])\n",
    "    df=dflist[ii]\n",
    "    df0=np.array(df[0])\n",
    "    df1=np.array(df[1])\n",
    "    N=len(df)\n",
    "    t=np.array(range(N))/fs\n",
    "\n",
    "    from scipy.fft import fft, fftfreq\n",
    "    import matplotlib.pyplot as plt\n",
    "    from scipy import signal\n",
    "#     print(file)\n",
    "    for ii in range(49):\n",
    "        if len(file)==6:\n",
    "            labelpos=label.index(file[3:5])\n",
    "            datanumber[labelpos]=datanumber[labelpos]+1\n",
    "            fn=int(file[1:3])\n",
    "        else:\n",
    "            labelpos=label.index(file[2:4])\n",
    "            datanumber[labelpos]=datanumber[labelpos]+1\n",
    "            fn=int(file[1])\n",
    "            \n",
    "        f, t, Zxx = signal.stft(df0[ii*fs//10:(ii+2)*fs//10], fs, boundary = None, nperseg=int(fs/10))\n",
    "        data0=20*np.log10(np.abs(Zxx))\n",
    "        f, t, Zxx = signal.stft(df1[ii*fs//10:(ii+2)*fs//10], fs, boundary = None, nperseg=int(fs/10))\n",
    "        data1=20*np.log10(np.abs(Zxx))\n",
    "        data01=np.concatenate(((data0[0:60,:],data1[0:60,:])),axis=1)\n",
    "        datamin=data01.min()\n",
    "        datamax=data01.max()\n",
    "        data01 = data01-datamax\n",
    "        data01 = np.where(data01<-max, -max,data01)\n",
    "        data01 = np.uint8((data01+max)*255//max)\n",
    "        \n",
    "        setnum=str(fn+10)\n",
    "        datanum=str(10000+datanumber[labelpos])\n",
    "        labelnum=str(labelpos+11)\n",
    "#         print(ii)\n",
    "        path = '/kaggle/working/data/numpy/'\n",
    "        np.save(path+setnum+datanum+labelnum,data01)\n",
    "        path = '/kaggle/working/data/image/'\n",
    "        Image.fromarray(data01).save(path+setnum+datanum+labelnum+'.png')\n",
    "        infodf = infodf.append({'filename': setnum+datanum+labelnum, 'class': int(labelnum)-11},ignore_index=True)\n",
    "#         print(infodf)\n",
    "    infodf.to_csv('info.csv')"
   ]
  },
  {
   "cell_type": "code",
   "execution_count": 9,
   "id": "polish-scene",
   "metadata": {
    "execution": {
     "iopub.execute_input": "2021-06-29T13:59:36.372773Z",
     "iopub.status.busy": "2021-06-29T13:59:36.371511Z",
     "iopub.status.idle": "2021-06-29T13:59:36.377641Z",
     "shell.execute_reply": "2021-06-29T13:59:36.377050Z"
    },
    "papermill": {
     "duration": 0.020903,
     "end_time": "2021-06-29T13:59:36.377781",
     "exception": false,
     "start_time": "2021-06-29T13:59:36.356878",
     "status": "completed"
    },
    "tags": []
   },
   "outputs": [
    {
     "data": {
      "text/plain": [
       "'/kaggle/working/data/info.csv'"
      ]
     },
     "execution_count": 9,
     "metadata": {},
     "output_type": "execute_result"
    }
   ],
   "source": [
    "import shutil\n",
    "shutil.move('info.csv',\"/kaggle/working/data\")"
   ]
  },
  {
   "cell_type": "code",
   "execution_count": 10,
   "id": "unusual-permit",
   "metadata": {
    "execution": {
     "iopub.execute_input": "2021-06-29T13:59:36.411785Z",
     "iopub.status.busy": "2021-06-29T13:59:36.410855Z",
     "iopub.status.idle": "2021-06-29T13:59:44.352401Z",
     "shell.execute_reply": "2021-06-29T13:59:44.351796Z"
    },
    "papermill": {
     "duration": 7.96485,
     "end_time": "2021-06-29T13:59:44.352575",
     "exception": false,
     "start_time": "2021-06-29T13:59:36.387725",
     "status": "completed"
    },
    "tags": []
   },
   "outputs": [],
   "source": [
    "!zip -r -q output.zip data/\n",
    "!rm -rf  data/*"
   ]
  }
 ],
 "metadata": {
  "kernelspec": {
   "display_name": "Python 3",
   "language": "python",
   "name": "python3"
  },
  "language_info": {
   "codemirror_mode": {
    "name": "ipython",
    "version": 3
   },
   "file_extension": ".py",
   "mimetype": "text/x-python",
   "name": "python",
   "nbconvert_exporter": "python",
   "pygments_lexer": "ipython3",
   "version": "3.7.10"
  },
  "papermill": {
   "default_parameters": {},
   "duration": 221.89493,
   "end_time": "2021-06-29T13:59:45.679479",
   "environment_variables": {},
   "exception": null,
   "input_path": "__notebook__.ipynb",
   "output_path": "__notebook__.ipynb",
   "parameters": {},
   "start_time": "2021-06-29T13:56:03.784549",
   "version": "2.3.3"
  }
 },
 "nbformat": 4,
 "nbformat_minor": 5
}
