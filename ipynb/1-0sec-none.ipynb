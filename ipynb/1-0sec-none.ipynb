{
 "cells": [
  {
   "cell_type": "code",
   "execution_count": 1,
   "id": "strange-wisdom",
   "metadata": {
    "_cell_guid": "b1076dfc-b9ad-4769-8c92-a6c4dae69d19",
    "_uuid": "8f2839f25d086af736a60e9eeb907d3b93b6e0e5",
    "execution": {
     "iopub.execute_input": "2021-06-29T13:56:46.495562Z",
     "iopub.status.busy": "2021-06-29T13:56:46.494750Z",
     "iopub.status.idle": "2021-06-29T13:56:46.498245Z",
     "shell.execute_reply": "2021-06-29T13:56:46.497551Z",
     "shell.execute_reply.started": "2021-06-26T09:36:25.043844Z"
    },
    "papermill": {
     "duration": 0.026054,
     "end_time": "2021-06-29T13:56:46.498452",
     "exception": false,
     "start_time": "2021-06-29T13:56:46.472398",
     "status": "completed"
    },
    "tags": []
   },
   "outputs": [],
   "source": [
    "# This Python 3 environment comes with many helpful analytics libraries installed\n",
    "# It is defined by the kaggle/python Docker image: https://github.com/kaggle/docker-python\n",
    "# For example, here's several helpful packages to load\n",
    "\n",
    "import numpy as np # linear algebra\n",
    "import pandas as pd # data processing, CSV file I/O (e.g. pd.read_csv)\n",
    "\n",
    "# Input data files are available in the read-only \"../input/\" directory\n",
    "# For example, running this (by clicking run or pressing Shift+Enter) will list all files under the input directory\n",
    "\n",
    "import os\n",
    "# for dirname, _, filenames in os.walk('/kaggle/input'):\n",
    "#     for filename in filenames:\n",
    "#         print(os.path.join(dirname, filename))\n",
    "\n",
    "# # You can write up to 20GB to the current directory (/kaggle/working/) that gets preserved as output when you create a version using \"Save & Run All\" \n",
    "# # You can also write temporary files to /kaggle/temp/, but they won't be saved outside of the current session\n",
    "from PIL import Image"
   ]
  },
  {
   "cell_type": "code",
   "execution_count": 2,
   "id": "usual-laser",
   "metadata": {
    "execution": {
     "iopub.execute_input": "2021-06-29T13:56:46.524146Z",
     "iopub.status.busy": "2021-06-29T13:56:46.522179Z",
     "iopub.status.idle": "2021-06-29T13:56:46.527713Z",
     "shell.execute_reply": "2021-06-29T13:56:46.527141Z",
     "shell.execute_reply.started": "2021-06-26T09:36:26.91041Z"
    },
    "papermill": {
     "duration": 0.019602,
     "end_time": "2021-06-29T13:56:46.527882",
     "exception": false,
     "start_time": "2021-06-29T13:56:46.508280",
     "status": "completed"
    },
    "tags": []
   },
   "outputs": [],
   "source": [
    "fs=4000"
   ]
  },
  {
   "cell_type": "code",
   "execution_count": 3,
   "id": "dedicated-victorian",
   "metadata": {
    "execution": {
     "iopub.execute_input": "2021-06-29T13:56:46.554726Z",
     "iopub.status.busy": "2021-06-29T13:56:46.554003Z",
     "iopub.status.idle": "2021-06-29T13:57:01.065026Z",
     "shell.execute_reply": "2021-06-29T13:57:01.064310Z",
     "shell.execute_reply.started": "2021-06-26T09:36:28.906357Z"
    },
    "papermill": {
     "duration": 14.527048,
     "end_time": "2021-06-29T13:57:01.065205",
     "exception": false,
     "start_time": "2021-06-29T13:56:46.538157",
     "status": "completed"
    },
    "tags": []
   },
   "outputs": [],
   "source": [
    "import glob\n",
    "path = '../input/emg2channels'\n",
    "all_files = glob.glob(path+'/EMG-S*/'+'*.csv')\n",
    "dflist=[]\n",
    "for ii in range(len(all_files)):\n",
    "    dflist.append(pd.read_csv(all_files[ii],header=None))"
   ]
  },
  {
   "cell_type": "code",
   "execution_count": 4,
   "id": "interior-fluid",
   "metadata": {
    "execution": {
     "iopub.execute_input": "2021-06-29T13:57:01.093660Z",
     "iopub.status.busy": "2021-06-29T13:57:01.092878Z",
     "iopub.status.idle": "2021-06-29T13:57:01.098352Z",
     "shell.execute_reply": "2021-06-29T13:57:01.097766Z",
     "shell.execute_reply.started": "2021-06-26T09:36:41.267672Z"
    },
    "papermill": {
     "duration": 0.02248,
     "end_time": "2021-06-29T13:57:01.098512",
     "exception": false,
     "start_time": "2021-06-29T13:57:01.076032",
     "status": "completed"
    },
    "tags": []
   },
   "outputs": [
    {
     "data": {
      "text/plain": [
       "600"
      ]
     },
     "execution_count": 4,
     "metadata": {},
     "output_type": "execute_result"
    }
   ],
   "source": [
    "len(all_files)"
   ]
  },
  {
   "cell_type": "code",
   "execution_count": 5,
   "id": "personalized-enforcement",
   "metadata": {
    "execution": {
     "iopub.execute_input": "2021-06-29T13:57:01.125965Z",
     "iopub.status.busy": "2021-06-29T13:57:01.125080Z",
     "iopub.status.idle": "2021-06-29T13:57:01.129490Z",
     "shell.execute_reply": "2021-06-29T13:57:01.128860Z",
     "shell.execute_reply.started": "2021-06-26T09:36:41.275975Z"
    },
    "papermill": {
     "duration": 0.020859,
     "end_time": "2021-06-29T13:57:01.129642",
     "exception": false,
     "start_time": "2021-06-29T13:57:01.108783",
     "status": "completed"
    },
    "tags": []
   },
   "outputs": [],
   "source": [
    "label=['HC','II','LL','MM','RR','TI','TL','TM','TR','TT']\n",
    "datanumber=[0,0,0,0,0,0,0,0,0,0]"
   ]
  },
  {
   "cell_type": "code",
   "execution_count": 6,
   "id": "protected-porter",
   "metadata": {
    "execution": {
     "iopub.execute_input": "2021-06-29T13:57:01.162084Z",
     "iopub.status.busy": "2021-06-29T13:57:01.161341Z",
     "iopub.status.idle": "2021-06-29T13:57:01.164663Z",
     "shell.execute_reply": "2021-06-29T13:57:01.164077Z",
     "shell.execute_reply.started": "2021-06-26T09:36:43.894272Z"
    },
    "papermill": {
     "duration": 0.025103,
     "end_time": "2021-06-29T13:57:01.164821",
     "exception": false,
     "start_time": "2021-06-29T13:57:01.139718",
     "status": "completed"
    },
    "tags": []
   },
   "outputs": [],
   "source": [
    "infodf = pd.DataFrame(columns=['filename', 'class'])"
   ]
  },
  {
   "cell_type": "code",
   "execution_count": 7,
   "id": "threaded-captain",
   "metadata": {
    "execution": {
     "iopub.execute_input": "2021-06-29T13:57:01.208615Z",
     "iopub.status.busy": "2021-06-29T13:57:01.191936Z",
     "iopub.status.idle": "2021-06-29T13:57:03.420442Z",
     "shell.execute_reply": "2021-06-29T13:57:03.419648Z",
     "shell.execute_reply.started": "2021-06-26T09:36:46.545424Z"
    },
    "papermill": {
     "duration": 2.245744,
     "end_time": "2021-06-29T13:57:03.420622",
     "exception": false,
     "start_time": "2021-06-29T13:57:01.174878",
     "status": "completed"
    },
    "tags": []
   },
   "outputs": [],
   "source": [
    "!mkdir /kaggle/working/data\n",
    "!mkdir /kaggle/working/data/numpy\n",
    "!mkdir /kaggle/working/data/image"
   ]
  },
  {
   "cell_type": "code",
   "execution_count": 8,
   "id": "separate-spank",
   "metadata": {
    "execution": {
     "iopub.execute_input": "2021-06-29T13:57:03.467252Z",
     "iopub.status.busy": "2021-06-29T13:57:03.464260Z",
     "iopub.status.idle": "2021-06-29T14:00:08.866193Z",
     "shell.execute_reply": "2021-06-29T14:00:08.865478Z",
     "shell.execute_reply.started": "2021-06-26T05:30:28.289959Z"
    },
    "papermill": {
     "duration": 185.435773,
     "end_time": "2021-06-29T14:00:08.866396",
     "exception": false,
     "start_time": "2021-06-29T13:57:03.430623",
     "status": "completed"
    },
    "tags": []
   },
   "outputs": [],
   "source": [
    "max = 60\n",
    "for ii in range(len(dflist)):\n",
    "#     print(ii,all_files[ii])\n",
    "    file=''.join(''.join(all_files[ii].split('/')[3:5]).split('.')[0].split('-')[1:3])\n",
    "    df=dflist[ii]\n",
    "    df0=np.array(df[0])\n",
    "    df1=np.array(df[1])\n",
    "    N=len(df)\n",
    "    t=np.array(range(N))/fs\n",
    "\n",
    "    from scipy.fft import fft, fftfreq\n",
    "    import matplotlib.pyplot as plt\n",
    "    from scipy import signal\n",
    "#     print(file)\n",
    "    for ii in range(40):\n",
    "        if len(file)==6:\n",
    "            labelpos=label.index(file[3:5])\n",
    "            datanumber[labelpos]=datanumber[labelpos]+1\n",
    "            fn=int(file[1:3])\n",
    "        else:\n",
    "            labelpos=label.index(file[2:4])\n",
    "            datanumber[labelpos]=datanumber[labelpos]+1\n",
    "            fn=int(file[1])\n",
    "            \n",
    "        f, t, Zxx = signal.stft(df0[ii*fs//10:ii*fs//10+fs], fs, boundary = None, nperseg=int(fs/10))\n",
    "        data0=20*np.log10(np.abs(Zxx))\n",
    "        f, t, Zxx = signal.stft(df1[ii*fs//10:ii*fs//10+fs], fs, boundary = None, nperseg=int(fs/10))\n",
    "        data1=20*np.log10(np.abs(Zxx))\n",
    "        data01=np.concatenate(((data0[0:60,:],data1[0:60,:])),axis=1)\n",
    "        datamin=data01.min()\n",
    "        datamax=data01.max()\n",
    "        data01 = data01-datamax\n",
    "        data01 = np.where(data01<-max, -max,data01)\n",
    "        data01 = np.uint8((data01+max)*255//max)\n",
    "        \n",
    "        setnum=str(fn+10)\n",
    "        datanum=str(10000+datanumber[labelpos])\n",
    "        labelnum=str(labelpos+11)\n",
    "#         print(ii)\n",
    "        path = '/kaggle/working/data/numpy/'\n",
    "        np.save(path+setnum+datanum+labelnum,data01)\n",
    "        path = '/kaggle/working/data/image/'\n",
    "        Image.fromarray(data01).save(path+setnum+datanum+labelnum+'.png')\n",
    "        infodf = infodf.append({'filename': setnum+datanum+labelnum, 'class': int(labelnum)-11},ignore_index=True)\n",
    "#         print(infodf)\n",
    "    infodf.to_csv('info.csv')"
   ]
  },
  {
   "cell_type": "code",
   "execution_count": 9,
   "id": "stupid-straight",
   "metadata": {
    "execution": {
     "iopub.execute_input": "2021-06-29T14:00:08.893737Z",
     "iopub.status.busy": "2021-06-29T14:00:08.892626Z",
     "iopub.status.idle": "2021-06-29T14:00:08.898418Z",
     "shell.execute_reply": "2021-06-29T14:00:08.897733Z"
    },
    "papermill": {
     "duration": 0.021156,
     "end_time": "2021-06-29T14:00:08.898569",
     "exception": false,
     "start_time": "2021-06-29T14:00:08.877413",
     "status": "completed"
    },
    "tags": []
   },
   "outputs": [
    {
     "data": {
      "text/plain": [
       "'/kaggle/working/data/info.csv'"
      ]
     },
     "execution_count": 9,
     "metadata": {},
     "output_type": "execute_result"
    }
   ],
   "source": [
    "import shutil\n",
    "shutil.move('info.csv',\"/kaggle/working/data\")"
   ]
  },
  {
   "cell_type": "code",
   "execution_count": 10,
   "id": "whole-ceremony",
   "metadata": {
    "execution": {
     "iopub.execute_input": "2021-06-29T14:00:08.935449Z",
     "iopub.status.busy": "2021-06-29T14:00:08.934110Z",
     "iopub.status.idle": "2021-06-29T14:00:18.323568Z",
     "shell.execute_reply": "2021-06-29T14:00:18.322952Z"
    },
    "papermill": {
     "duration": 9.414643,
     "end_time": "2021-06-29T14:00:18.323738",
     "exception": false,
     "start_time": "2021-06-29T14:00:08.909095",
     "status": "completed"
    },
    "tags": []
   },
   "outputs": [],
   "source": [
    "!zip -r -q output.zip data/\n",
    "!rm -rf  data/*"
   ]
  }
 ],
 "metadata": {
  "kernelspec": {
   "display_name": "Python 3",
   "language": "python",
   "name": "python3"
  },
  "language_info": {
   "codemirror_mode": {
    "name": "ipython",
    "version": 3
   },
   "file_extension": ".py",
   "mimetype": "text/x-python",
   "name": "python",
   "nbconvert_exporter": "python",
   "pygments_lexer": "ipython3",
   "version": "3.7.10"
  },
  "papermill": {
   "default_parameters": {},
   "duration": 223.007487,
   "end_time": "2021-06-29T14:00:20.052624",
   "environment_variables": {},
   "exception": null,
   "input_path": "__notebook__.ipynb",
   "output_path": "__notebook__.ipynb",
   "parameters": {},
   "start_time": "2021-06-29T13:56:37.045137",
   "version": "2.3.3"
  }
 },
 "nbformat": 4,
 "nbformat_minor": 5
}
